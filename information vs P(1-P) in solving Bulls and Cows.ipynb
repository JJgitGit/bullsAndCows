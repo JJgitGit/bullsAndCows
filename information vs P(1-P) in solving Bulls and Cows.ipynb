{
 "cells": [
  {
   "cell_type": "markdown",
   "metadata": {},
   "source": [
    "## Information theory vs P(1-P) in solving \"Bulls and cows\"\n",
    "\n",
    "The game rules: https://en.wikipedia.org/wiki/Bulls_and_Cows\n",
    "I chose the guest according the one which maximize -Plog(P) or P(1-P), and compare which one works better..."
   ]
  },
  {
   "cell_type": "code",
   "execution_count": 11,
   "metadata": {
    "collapsed": true
   },
   "outputs": [],
   "source": [
    "import math\n",
    "import pprint\n",
    "from collections import defaultdict\n",
    "import random\n",
    "from matplotlib import pyplot as plt\n",
    "from IPython.display import clear_output\n"
   ]
  },
  {
   "cell_type": "code",
   "execution_count": 12,
   "metadata": {
    "collapsed": false
   },
   "outputs": [],
   "source": [
    "class CombiHelper:\n",
    "    \n",
    "    def __init__(self, Range, digits):\n",
    "        self.R = Range\n",
    "        self.D = digits\n",
    "        \n",
    "    def ind_to_combi(self, ind):\n",
    "        \n",
    "        options = range(self.R)\n",
    "        l = []\n",
    "        for d in range(self.D):\n",
    "            i = ind % (self.R-d)\n",
    "            l.append(options.pop(i))\n",
    "            ind /= (self.R-d)\n",
    "            \n",
    "        combi = tuple(l)\n",
    "        return combi\n",
    "    \n",
    "    def get_num_possible_combi(self):\n",
    "        numPos = 1\n",
    "        for d in range(self.D):\n",
    "            numPos *= self.R - d\n",
    "            \n",
    "        return numPos\n",
    "        \n",
    "    def gen_all_combi(self):\n",
    "        \n",
    "        all_combi = []\n",
    "        for ind in range(self.get_num_possible_combi()):\n",
    "            all_combi.append(self.ind_to_combi(ind))\n",
    "            \n",
    "        return all_combi\n",
    "        \n",
    "    def compare_combi(self, combi1, combi2):\n",
    "        \n",
    "        B = 0 #buls\n",
    "        H = 0 # hits\n",
    "        \n",
    "        s = set(combi1)\n",
    "        \n",
    "        for d1, d2 in zip(combi1, combi2):\n",
    "            if d1 == d2:\n",
    "                B += 1\n",
    "            elif d2 in s:\n",
    "                H += 1\n",
    "        \n",
    "        return (B,H)\n",
    "                    \n",
    "        "
   ]
  },
  {
   "cell_type": "code",
   "execution_count": null,
   "metadata": {
    "collapsed": false
   },
   "outputs": [],
   "source": []
  },
  {
   "cell_type": "code",
   "execution_count": 13,
   "metadata": {
    "collapsed": false
   },
   "outputs": [],
   "source": [
    "class BH_Game:\n",
    "    def __init__(self, combi_helper):\n",
    "        self.CH = combi_helper\n",
    "        self.code = None\n",
    "        self.num_attempts = None\n",
    "        self.game_active = False\n",
    "        \n",
    "    def start(self):\n",
    "        self.code = self.CH.ind_to_combi(random.randint(0,self.CH.get_num_possible_combi()-1))\n",
    "        self.num_attempts = 0\n",
    "        self.game_active = True\n",
    "        \n",
    "    def guess(self, guess):\n",
    "        res = self.CH.compare_combi(self.code, guess)\n",
    "        if self.game_active:\n",
    "            self.num_attempts += 1\n",
    "        if res[0] == len(self.code):\n",
    "            self.game_active = False\n",
    "        return res, self.num_attempts\n",
    "        \n",
    "    def get_num_attempt(self):\n",
    "        return self.num_attempts"
   ]
  },
  {
   "cell_type": "code",
   "execution_count": null,
   "metadata": {
    "collapsed": false
   },
   "outputs": [],
   "source": []
  },
  {
   "cell_type": "code",
   "execution_count": 14,
   "metadata": {
    "collapsed": false
   },
   "outputs": [],
   "source": [
    "class Solver:\n",
    "    \n",
    "    def __init__(self, combi_helper):\n",
    "        self.CH = combi_helper\n",
    "        self.all_combi = tuple(self.CH.gen_all_combi())\n",
    "        self.posible_combis = set(self.all_combi)\n",
    "        self.solved = False\n",
    "        self.mode = 'information'\n",
    "        \n",
    "    def score_hist(self, hist):\n",
    "        \n",
    "        score = 0\n",
    "        for k, p in hist.iteritems():\n",
    "            if self.mode == 'p(1-p)':\n",
    "                score += p*(1.0-p)\n",
    "            elif self.mode == 'information':\n",
    "                score += -p*math.log(p)\n",
    "            \n",
    "        return score\n",
    "            \n",
    "    def build_results_probabilty(self, combi):\n",
    "        res_prob = defaultdict(float)\n",
    "\n",
    "        N = len(self.posible_combis)\n",
    "        dP = 1.0/N\n",
    "        for pos_com in self.posible_combis:\n",
    "            res = self.CH.compare_combi(pos_com, combi)\n",
    "            res_prob[res] += dP\n",
    "            \n",
    "        return res_prob\n",
    "\n",
    "    def select_next_guss(self,score_per_combi, hist_per_combi):\n",
    "        \n",
    "        nextGuess = None\n",
    "        maxBullsScore = -99999999.9\n",
    "        bullsEye = (self.CH.D,0)\n",
    "        maxScore = max(score_per_combi.values())\n",
    "        for c, s in score_per_combi.iteritems():\n",
    "            combiHist = hist_per_combi[c]\n",
    "            if s == maxScore and combiHist[bullsEye] > maxBullsScore:\n",
    "                nextGuess = c\n",
    "                maxBullsScore = combiHist[bullsEye]\n",
    "        return nextGuess\n",
    "\n",
    "    def solve(self, game, mode='information'):\n",
    "        self.posible_combis = set(self.all_combi)\n",
    "        self.mode = mode\n",
    "        self.solved = False\n",
    "        \n",
    "        itt = 0\n",
    "        pastGuess = set()\n",
    "        while not self.solved and itt < 100 and len(self.posible_combis) > 0:\n",
    "            itt += 1\n",
    "            hist_per_combi = defaultdict(lambda: defaultdict(float))\n",
    "            score_per_combi = {}\n",
    "                \n",
    "            if itt == 1:\n",
    "                currGuess = random.sample(self.posible_combis, 1)[0]\n",
    "            else:\n",
    "                for combi in self.all_combi:\n",
    "                    if combi not in pastGuess:\n",
    "                        res_prob = self.build_results_probabilty(combi)\n",
    "                        hist_per_combi[combi] = res_prob\n",
    "                        score_per_combi[combi] = self.score_hist(res_prob)\n",
    "                currGuess = self.select_next_guss(score_per_combi, hist_per_combi)\n",
    "                \n",
    "            pastGuess.add(currGuess)\n",
    "            res, numAttempts = game.guess(currGuess)\n",
    "#             print '#'+str(itt),' #Options:', len(self.posible_combis), ', Gussing:', currGuess, ', Result:', res\n",
    "            \n",
    "            if res == (self.CH.D,0):\n",
    "                self.solved = True\n",
    "                \n",
    "            # removing combis that couldn't produce this reult\n",
    "            imposible_combies = []\n",
    "            for c in self.posible_combis:\n",
    "                if res != self.CH.compare_combi(c,currGuess):\n",
    "                    imposible_combies.append(c)\n",
    "                    \n",
    "            for c in imposible_combies:\n",
    "                self.posible_combis.remove(c)\n",
    "            \n",
    "#         print 'Code is: ', self.posible_combis\n",
    "#         print 'num guess: ', game.get_num_attempt()\n",
    "        return game.get_num_attempt()\n",
    "\n",
    "        "
   ]
  },
  {
   "cell_type": "code",
   "execution_count": null,
   "metadata": {
    "collapsed": true
   },
   "outputs": [],
   "source": []
  },
  {
   "cell_type": "code",
   "execution_count": null,
   "metadata": {
    "collapsed": false
   },
   "outputs": [],
   "source": []
  },
  {
   "cell_type": "code",
   "execution_count": 29,
   "metadata": {
    "collapsed": false
   },
   "outputs": [
    {
     "name": "stdout",
     "output_type": "stream",
     "text": [
      "(999, 1000)\n"
     ]
    }
   ],
   "source": [
    "num_attempts_hist = defaultdict(lambda:defaultdict(int))\n",
    "\n",
    "R,D = 10,4\n",
    "cHelper = CombiHelper(R, D)\n",
    "solver = Solver(cHelper)\n",
    "game = BH_Game(cHelper)\n",
    "\n",
    "N = 1000\n",
    "for i in range(N):\n",
    "    for mode in ('information', 'p(1-p)'):\n",
    "        game.start()\n",
    "        num_att = solver.solve(game, mode=mode)\n",
    "        num_attempts_hist[mode][num_att] += 1\n",
    "        clear_output(wait=True)\n",
    "        print(i,N)\n",
    "    "
   ]
  },
  {
   "cell_type": "code",
   "execution_count": 30,
   "metadata": {
    "collapsed": false
   },
   "outputs": [
    {
     "data": {
      "image/png": "[encoded data removed]",
      "text/plain": [
       "<matplotlib.figure.Figure at 0x973ad30>"
      ]
     },
     "metadata": {},
     "output_type": "display_data"
    }
   ],
   "source": [
    "fig = plt.figure(figsize=(16,4))\n",
    "offset = {'information':-0.125, 'p(1-p)':0.125}\n",
    "for k, h in num_attempts_hist.iteritems():\n",
    "    x = [xx+offset[k] for xx in h.keys()]\n",
    "    plt.bar(x, h.values(), width=0.5, label=k, alpha=0.7)\n",
    "    \n",
    "plt.legend()\n",
    "plt.show()"
   ]
  },
  {
   "cell_type": "code",
   "execution_count": null,
   "metadata": {
    "collapsed": false
   },
   "outputs": [],
   "source": []
  },
  {
   "cell_type": "code",
   "execution_count": null,
   "metadata": {
    "collapsed": false
   },
   "outputs": [],
   "source": []
  },
  {
   "cell_type": "code",
   "execution_count": null,
   "metadata": {
    "collapsed": true
   },
   "outputs": [],
   "source": []
  },
  {
   "cell_type": "code",
   "execution_count": 333,
   "metadata": {
    "collapsed": false
   },
   "outputs": [
    {
     "name": "stdout",
     "output_type": "stream",
     "text": [
      "----------\n",
      "ind_to_combi\n",
      "[(0, 1), (1, 0), (2, 0), (3, 0)]\n",
      "----------\n",
      "num possibilities\n",
      "True\n",
      "----------\n",
      "compare combi\n",
      "(0, 1) (0, 1) buls=2, hits=0\n",
      "(0, 1) (2, 0) buls=0, hits=1\n",
      "(2, 0) (3, 0) buls=1, hits=0\n",
      "----------\n",
      "gen all combi\n",
      "[(0, 1), (1, 0), (2, 0), (3, 0), (0, 2), (1, 2), (2, 1), (3, 1), (0, 3), (1, 3), (2, 3), (3, 2)]\n",
      "(0, 1) B=1, H=0 1\n",
      "(1, 0) B=0, H=1 2\n",
      "(2, 0) B=0, H=0 3\n",
      "(3, 0) B=1, H=0 4\n",
      "(0, 2) B=0, H=0 5\n",
      "(1, 2) B=0, H=1 6\n",
      "(2, 1) B=1, H=0 7\n",
      "(3, 1) B=2, H=0 8\n"
     ]
    }
   ],
   "source": [
    "# Testing\n",
    "\n",
    "R,D = 4, 2\n",
    "cHelper = CombiHelper(R, D)\n",
    "\n",
    "print '----------'\n",
    "print 'ind_to_combi'\n",
    "combi_list = [cHelper.ind_to_combi(ind) for ind in range(4)]\n",
    "print combi_list\n",
    "\n",
    "print '----------'\n",
    "print 'num possibilities'\n",
    "print cHelper.get_num_possible_combi() == 12\n",
    "\n",
    "print '----------'\n",
    "print 'compare combi'\n",
    "cInd = [(0,0), (0,2), (2,3)]\n",
    "for ind in cInd:\n",
    "    c1, c2 = combi_list[ind[0]],combi_list[ind[1]]\n",
    "    res = cHelper.compare_combi(c1, c2)\n",
    "    print c1, c2, 'buls=%s, hits=%s' %(res[0], res[1])\n",
    "    \n",
    "print '----------'\n",
    "print 'gen all combi'\n",
    "print cHelper.gen_all_combi()\n",
    "\n",
    "\n",
    "\n",
    "\n",
    "\n",
    "# Testing\n",
    "\n",
    "game = BH_Game(cHelper)\n",
    "game.start()\n",
    "for ind in range(8):\n",
    "    guess = cHelper.ind_to_combi(ind)\n",
    "    res, itt = game.guess(guess)\n",
    "    print guess, 'B=%s, H=%s' %(res[0], res[1]), itt"
   ]
  }
 ],
 "metadata": {
  "kernelspec": {
   "display_name": "Python 2",
   "language": "python",
   "name": "python2"
  },
  "language_info": {
   "codemirror_mode": {
    "name": "ipython",
    "version": 2
   },
   "file_extension": ".py",
   "mimetype": "text/x-python",
   "name": "python",
   "nbconvert_exporter": "python",
   "pygments_lexer": "ipython2",
   "version": "2.7.13"
  }
 },
 "nbformat": 4,
 "nbformat_minor": 2
}
